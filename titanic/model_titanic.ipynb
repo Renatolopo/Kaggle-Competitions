{
 "metadata": {
  "language_info": {
   "codemirror_mode": {
    "name": "ipython",
    "version": 3
   },
   "file_extension": ".py",
   "mimetype": "text/x-python",
   "name": "python",
   "nbconvert_exporter": "python",
   "pygments_lexer": "ipython3",
   "version": "3.8.5"
  },
  "orig_nbformat": 2,
  "kernelspec": {
   "name": "python3",
   "display_name": "Python 3",
   "language": "python"
  }
 },
 "nbformat": 4,
 "nbformat_minor": 2,
 "cells": [
  {
   "cell_type": "code",
   "execution_count": 3,
   "metadata": {},
   "outputs": [],
   "source": [
    "import pandas as pd\n",
    "from sklearn.tree import DecisionTreeClassifier, export_graphviz\n",
    "from sklearn.model_selection import train_test_split\n",
    "from sklearn import metrics\n",
    "import numpy as np \n",
    "import re"
   ]
  },
  {
   "cell_type": "code",
   "execution_count": 5,
   "metadata": {},
   "outputs": [],
   "source": [
    "#substitui valores NaN pelos valores mais frequente da coluna\n",
    "def replace_nan(df):\n",
    "        df['Age'] = df['Age'].fillna(int(df['Age'].mode()))\n",
    "        df['SibSp'] = df['SibSp'].fillna(int(df['SibSp'].mode()))\n",
    "        df['Parch'] = df['Parch'].fillna(int(df['Parch'].mode()))\n",
    "        df['Fare'] = df['Fare'].fillna(int(df['Fare'].mode()))\n",
    "        return df\n",
    "        "
   ]
  },
  {
   "cell_type": "code",
   "execution_count": 6,
   "metadata": {},
   "outputs": [
    {
     "output_type": "execute_result",
     "data": {
      "text/plain": [
       "PassengerId      0\n",
       "Survived         0\n",
       "Pclass           0\n",
       "Age              0\n",
       "SibSp            0\n",
       "Parch            0\n",
       "Ticket           0\n",
       "Fare             0\n",
       "Cabin          687\n",
       "Embarked_C       0\n",
       "Embarked_Q       0\n",
       "Embarked_S       0\n",
       "Sex_female       0\n",
       "Sex_male         0\n",
       "dtype: int64"
      ]
     },
     "metadata": {},
     "execution_count": 6
    }
   ],
   "source": [
    "df_train = pd.read_csv('train.csv')\n",
    "df_dummies = pd.get_dummies(df_train[[\"Embarked\", \"Sex\"]])\n",
    "df_train = pd.concat([df_train, df_dummies], axis=1)\n",
    "df_train = df_train.drop(columns=['Name','Sex','Embarked'])\n",
    "df_train = replace_nan(df_train)\n",
    "df_train.isnull().sum()"
   ]
  },
  {
   "cell_type": "code",
   "execution_count": 20,
   "metadata": {},
   "outputs": [
    {
     "output_type": "execute_result",
     "data": {
      "text/plain": [
       "     PassengerId  Survived  Pclass   Age  SibSp  Parch    Ticket     Fare  \\\n",
       "715          716         0       3  19.0      0      0    348124   7.6500   \n",
       "553          554         1       3  22.0      0      0      2620   7.2250   \n",
       "4              5         0       3  35.0      0      0    373450   8.0500   \n",
       "23            24         1       1  28.0      0      0    113788  35.5000   \n",
       "729          730         0       3  25.0      1      0  23101271   7.9250   \n",
       "724          725         1       1  27.0      1      0    113806  53.1000   \n",
       "522          523         0       3  24.0      0      0      2624   7.2250   \n",
       "630          631         1       1  80.0      0      0     27042  30.0000   \n",
       "591          592         1       1  52.0      1      0     36947  78.2667   \n",
       "876          877         0       3  20.0      0      0      7534   9.8458   \n",
       "\n",
       "    Cabin  Embarked_C  Embarked_Q  Embarked_S  Sex_female  Sex_male  \n",
       "715    73           0           0           1           0         1  \n",
       "553     0           1           0           0           0         1  \n",
       "4       0           0           0           1           0         1  \n",
       "23      6           0           0           1           0         1  \n",
       "729     0           0           0           1           1         0  \n",
       "724     8           0           0           1           0         1  \n",
       "522     0           1           0           0           0         1  \n",
       "630    23           0           0           1           0         1  \n",
       "591    20           1           0           0           1         0  \n",
       "876     0           0           0           1           0         1  "
      ],
      "text/html": "<div>\n<style scoped>\n    .dataframe tbody tr th:only-of-type {\n        vertical-align: middle;\n    }\n\n    .dataframe tbody tr th {\n        vertical-align: top;\n    }\n\n    .dataframe thead th {\n        text-align: right;\n    }\n</style>\n<table border=\"1\" class=\"dataframe\">\n  <thead>\n    <tr style=\"text-align: right;\">\n      <th></th>\n      <th>PassengerId</th>\n      <th>Survived</th>\n      <th>Pclass</th>\n      <th>Age</th>\n      <th>SibSp</th>\n      <th>Parch</th>\n      <th>Ticket</th>\n      <th>Fare</th>\n      <th>Cabin</th>\n      <th>Embarked_C</th>\n      <th>Embarked_Q</th>\n      <th>Embarked_S</th>\n      <th>Sex_female</th>\n      <th>Sex_male</th>\n    </tr>\n  </thead>\n  <tbody>\n    <tr>\n      <th>715</th>\n      <td>716</td>\n      <td>0</td>\n      <td>3</td>\n      <td>19.0</td>\n      <td>0</td>\n      <td>0</td>\n      <td>348124</td>\n      <td>7.6500</td>\n      <td>73</td>\n      <td>0</td>\n      <td>0</td>\n      <td>1</td>\n      <td>0</td>\n      <td>1</td>\n    </tr>\n    <tr>\n      <th>553</th>\n      <td>554</td>\n      <td>1</td>\n      <td>3</td>\n      <td>22.0</td>\n      <td>0</td>\n      <td>0</td>\n      <td>2620</td>\n      <td>7.2250</td>\n      <td>0</td>\n      <td>1</td>\n      <td>0</td>\n      <td>0</td>\n      <td>0</td>\n      <td>1</td>\n    </tr>\n    <tr>\n      <th>4</th>\n      <td>5</td>\n      <td>0</td>\n      <td>3</td>\n      <td>35.0</td>\n      <td>0</td>\n      <td>0</td>\n      <td>373450</td>\n      <td>8.0500</td>\n      <td>0</td>\n      <td>0</td>\n      <td>0</td>\n      <td>1</td>\n      <td>0</td>\n      <td>1</td>\n    </tr>\n    <tr>\n      <th>23</th>\n      <td>24</td>\n      <td>1</td>\n      <td>1</td>\n      <td>28.0</td>\n      <td>0</td>\n      <td>0</td>\n      <td>113788</td>\n      <td>35.5000</td>\n      <td>6</td>\n      <td>0</td>\n      <td>0</td>\n      <td>1</td>\n      <td>0</td>\n      <td>1</td>\n    </tr>\n    <tr>\n      <th>729</th>\n      <td>730</td>\n      <td>0</td>\n      <td>3</td>\n      <td>25.0</td>\n      <td>1</td>\n      <td>0</td>\n      <td>23101271</td>\n      <td>7.9250</td>\n      <td>0</td>\n      <td>0</td>\n      <td>0</td>\n      <td>1</td>\n      <td>1</td>\n      <td>0</td>\n    </tr>\n    <tr>\n      <th>724</th>\n      <td>725</td>\n      <td>1</td>\n      <td>1</td>\n      <td>27.0</td>\n      <td>1</td>\n      <td>0</td>\n      <td>113806</td>\n      <td>53.1000</td>\n      <td>8</td>\n      <td>0</td>\n      <td>0</td>\n      <td>1</td>\n      <td>0</td>\n      <td>1</td>\n    </tr>\n    <tr>\n      <th>522</th>\n      <td>523</td>\n      <td>0</td>\n      <td>3</td>\n      <td>24.0</td>\n      <td>0</td>\n      <td>0</td>\n      <td>2624</td>\n      <td>7.2250</td>\n      <td>0</td>\n      <td>1</td>\n      <td>0</td>\n      <td>0</td>\n      <td>0</td>\n      <td>1</td>\n    </tr>\n    <tr>\n      <th>630</th>\n      <td>631</td>\n      <td>1</td>\n      <td>1</td>\n      <td>80.0</td>\n      <td>0</td>\n      <td>0</td>\n      <td>27042</td>\n      <td>30.0000</td>\n      <td>23</td>\n      <td>0</td>\n      <td>0</td>\n      <td>1</td>\n      <td>0</td>\n      <td>1</td>\n    </tr>\n    <tr>\n      <th>591</th>\n      <td>592</td>\n      <td>1</td>\n      <td>1</td>\n      <td>52.0</td>\n      <td>1</td>\n      <td>0</td>\n      <td>36947</td>\n      <td>78.2667</td>\n      <td>20</td>\n      <td>1</td>\n      <td>0</td>\n      <td>0</td>\n      <td>1</td>\n      <td>0</td>\n    </tr>\n    <tr>\n      <th>876</th>\n      <td>877</td>\n      <td>0</td>\n      <td>3</td>\n      <td>20.0</td>\n      <td>0</td>\n      <td>0</td>\n      <td>7534</td>\n      <td>9.8458</td>\n      <td>0</td>\n      <td>0</td>\n      <td>0</td>\n      <td>1</td>\n      <td>0</td>\n      <td>1</td>\n    </tr>\n  </tbody>\n</table>\n</div>"
     },
     "metadata": {},
     "execution_count": 20
    }
   ],
   "source": [
    "df_train['Cabin'] = df_train['Cabin'].fillna(0)\n",
    "r = re.compile(r'\\D')\n",
    "for i in range(len(df_train)):\n",
    "        # Cabin\n",
    "        df_train['Cabin'].iloc[i] = re.sub(r'[A-G]','', str(df_train['Cabin'].iloc[i]))\n",
    "        df_train['Cabin'].iloc[i] = re.sub(r' ','', str(df_train['Cabin'].iloc[i]))\n",
    "        try:\n",
    "                df_train['Cabin'].iloc[i] = int(df_train['Cabin'].iloc[i]) \n",
    "        except:\n",
    "                df_train['Cabin'].iloc[i] = 0\n",
    "\n",
    "        #Ticket\n",
    "        df_train['Ticket'].iloc[i] = r.sub('', str(df_train['Ticket'].iloc[i]))\n",
    "        df_train['Ticket'].iloc[i] = re.sub(r'[A-G]','', str(df_train['Ticket'].iloc[i]))\n",
    "        df_train['Ticket'].iloc[i] = re.sub(r' ','', str(df_train['Ticket'].iloc[i]))\n",
    "        try:\n",
    "                df_train['Ticket'].iloc[i] = int(df_train['Ticket'].iloc[i]) \n",
    "        except:\n",
    "                df_train['Ticket'].iloc[i] = 0\n",
    "\n",
    "df_train.sample(10)"
   ]
  },
  {
   "cell_type": "code",
   "execution_count": 8,
   "metadata": {},
   "outputs": [],
   "source": [
    "# dividindo os dados em treino e teste:\n",
    "x_train, x_test, y_train, y_test = train_test_split(df_train.drop('Survived', axis=1), df_train['Survived'], test_size=0.3)\n",
    "\n"
   ]
  },
  {
   "cell_type": "code",
   "execution_count": 9,
   "metadata": {},
   "outputs": [],
   "source": [
    "# Instância o objeto classificador:\n",
    "clf = DecisionTreeClassifier()"
   ]
  },
  {
   "cell_type": "code",
   "execution_count": 10,
   "metadata": {},
   "outputs": [],
   "source": [
    "# Treinando o modelo de arvore de decisão:\n",
    "clf = clf.fit(x_train,y_train)"
   ]
  },
  {
   "cell_type": "code",
   "execution_count": 11,
   "metadata": {},
   "outputs": [
    {
     "output_type": "execute_result",
     "data": {
      "text/plain": [
       "array([0, 0, 0, 1, 0, 0, 1, 0, 0, 0, 0, 0, 1, 1, 0, 1, 0, 0, 0, 0, 1, 1,\n",
       "       1, 0, 0, 1, 1, 1, 0, 1, 0, 0, 0, 0, 1, 1, 0, 0, 1, 0, 0, 1, 1, 1,\n",
       "       0, 0, 0, 0, 0, 0, 0, 1, 0, 0, 0, 0, 0, 0, 0, 0, 1, 1, 0, 1, 1, 0,\n",
       "       0, 0, 0, 0, 1, 1, 1, 1, 1, 1, 0, 0, 1, 1, 1, 0, 0, 0, 0, 0, 1, 0,\n",
       "       0, 1, 1, 1, 1, 0, 1, 1, 0, 1, 1, 0, 0, 0, 1, 0, 0, 1, 0, 1, 1, 0,\n",
       "       1, 0, 1, 0, 0, 0, 1, 0, 1, 1, 0, 1, 0, 0, 1, 0, 0, 1, 1, 0, 0, 1,\n",
       "       0, 0, 0, 0, 0, 0, 1, 0, 1, 1, 0, 0, 0, 0, 1, 0, 1, 0, 0, 1, 0, 1,\n",
       "       0, 0, 0, 0, 1, 0, 1, 1, 1, 0, 0, 1, 0, 0, 1, 0, 0, 0, 0, 0, 1, 0,\n",
       "       0, 0, 1, 1, 0, 0, 0, 0, 1, 0, 0, 1, 0, 1, 1, 1, 1, 0, 1, 0, 1, 0,\n",
       "       0, 0, 0, 0, 1, 0, 0, 0, 0, 0, 1, 1, 0, 0, 0, 1, 0, 0, 1, 0, 1, 0,\n",
       "       1, 0, 0, 1, 0, 0, 1, 0, 1, 1, 1, 0, 0, 0, 1, 0, 0, 1, 1, 1, 0, 0,\n",
       "       0, 1, 1, 1, 0, 0, 0, 1, 0, 1, 0, 0, 0, 1, 0, 0, 1, 1, 1, 1, 1, 0,\n",
       "       1, 0, 0, 0])"
      ]
     },
     "metadata": {},
     "execution_count": 11
    }
   ],
   "source": [
    "resultado = clf.predict(x_test)\n",
    "resultado"
   ]
  },
  {
   "cell_type": "code",
   "execution_count": 12,
   "metadata": {},
   "outputs": [
    {
     "output_type": "stream",
     "name": "stdout",
     "text": [
      "              precision    recall  f1-score   support\n\n           0       0.81      0.79      0.80       165\n           1       0.67      0.70      0.69       103\n\n    accuracy                           0.75       268\n   macro avg       0.74      0.74      0.74       268\nweighted avg       0.76      0.75      0.75       268\n\n"
     ]
    }
   ],
   "source": [
    "from sklearn import metrics\n",
    "print(metrics.classification_report(y_test,resultado)) "
   ]
  },
  {
   "cell_type": "code",
   "execution_count": 13,
   "metadata": {},
   "outputs": [
    {
     "output_type": "execute_result",
     "data": {
      "text/plain": [
       "PassengerId      0\n",
       "Pclass           0\n",
       "Age              0\n",
       "SibSp            0\n",
       "Parch            0\n",
       "Ticket           0\n",
       "Fare             0\n",
       "Cabin          327\n",
       "Embarked_C       0\n",
       "Embarked_Q       0\n",
       "Embarked_S       0\n",
       "Sex_female       0\n",
       "Sex_male         0\n",
       "dtype: int64"
      ]
     },
     "metadata": {},
     "execution_count": 13
    }
   ],
   "source": [
    "## prevendo dados de teste\n",
    "df_test = pd.read_csv('test.csv')\n",
    "df_dummies = pd.get_dummies(df_test[[\"Embarked\", \"Sex\"]])\n",
    "df_test = pd.concat([df_test, df_dummies], axis=1)\n",
    "df_test = df_test.drop(columns=['Name','Sex','Embarked'])\n",
    "\n",
    "df_test['Age'] = df_test['Age'].fillna(int(df_test['Age'].mode()[0]))\n",
    "df_test['Fare'] = df_test['Fare'].fillna(int(df_test['Fare'].mode()))\n",
    "df_test.isnull().sum()"
   ]
  },
  {
   "cell_type": "code",
   "execution_count": 21,
   "metadata": {},
   "outputs": [
    {
     "output_type": "execute_result",
     "data": {
      "text/plain": [
       "     PassengerId  Pclass   Age  SibSp  Parch  Ticket      Fare Cabin  \\\n",
       "9            901       3  21.0      2      0  448871   24.1500     0   \n",
       "330         1222       2  48.0      0      2   33112   36.7500     0   \n",
       "305         1197       1  64.0      1      1  112901   26.5500    26   \n",
       "146         1038       1  21.0      0      0   17463   51.8625    46   \n",
       "71           963       3  21.0      0      0  349211    7.8958     0   \n",
       "117         1009       3   1.0      1      1    9549   16.7000     6   \n",
       "280         1172       3  23.0      0      0  315085    8.6625     0   \n",
       "379         1271       3   5.0      4      2  347077   31.3875     0   \n",
       "308         1200       1  55.0      1      1   12749   93.5000    69   \n",
       "375         1267       1  45.0      0      0   17608  262.3750     0   \n",
       "\n",
       "     Embarked_C  Embarked_Q  Embarked_S  Sex_female  Sex_male  \n",
       "9             0           0           1           0         1  \n",
       "330           0           0           1           1         0  \n",
       "305           0           0           1           1         0  \n",
       "146           0           0           1           0         1  \n",
       "71            0           0           1           0         1  \n",
       "117           0           0           1           1         0  \n",
       "280           0           0           1           1         0  \n",
       "379           0           0           1           0         1  \n",
       "308           0           0           1           0         1  \n",
       "375           1           0           0           1         0  "
      ],
      "text/html": "<div>\n<style scoped>\n    .dataframe tbody tr th:only-of-type {\n        vertical-align: middle;\n    }\n\n    .dataframe tbody tr th {\n        vertical-align: top;\n    }\n\n    .dataframe thead th {\n        text-align: right;\n    }\n</style>\n<table border=\"1\" class=\"dataframe\">\n  <thead>\n    <tr style=\"text-align: right;\">\n      <th></th>\n      <th>PassengerId</th>\n      <th>Pclass</th>\n      <th>Age</th>\n      <th>SibSp</th>\n      <th>Parch</th>\n      <th>Ticket</th>\n      <th>Fare</th>\n      <th>Cabin</th>\n      <th>Embarked_C</th>\n      <th>Embarked_Q</th>\n      <th>Embarked_S</th>\n      <th>Sex_female</th>\n      <th>Sex_male</th>\n    </tr>\n  </thead>\n  <tbody>\n    <tr>\n      <th>9</th>\n      <td>901</td>\n      <td>3</td>\n      <td>21.0</td>\n      <td>2</td>\n      <td>0</td>\n      <td>448871</td>\n      <td>24.1500</td>\n      <td>0</td>\n      <td>0</td>\n      <td>0</td>\n      <td>1</td>\n      <td>0</td>\n      <td>1</td>\n    </tr>\n    <tr>\n      <th>330</th>\n      <td>1222</td>\n      <td>2</td>\n      <td>48.0</td>\n      <td>0</td>\n      <td>2</td>\n      <td>33112</td>\n      <td>36.7500</td>\n      <td>0</td>\n      <td>0</td>\n      <td>0</td>\n      <td>1</td>\n      <td>1</td>\n      <td>0</td>\n    </tr>\n    <tr>\n      <th>305</th>\n      <td>1197</td>\n      <td>1</td>\n      <td>64.0</td>\n      <td>1</td>\n      <td>1</td>\n      <td>112901</td>\n      <td>26.5500</td>\n      <td>26</td>\n      <td>0</td>\n      <td>0</td>\n      <td>1</td>\n      <td>1</td>\n      <td>0</td>\n    </tr>\n    <tr>\n      <th>146</th>\n      <td>1038</td>\n      <td>1</td>\n      <td>21.0</td>\n      <td>0</td>\n      <td>0</td>\n      <td>17463</td>\n      <td>51.8625</td>\n      <td>46</td>\n      <td>0</td>\n      <td>0</td>\n      <td>1</td>\n      <td>0</td>\n      <td>1</td>\n    </tr>\n    <tr>\n      <th>71</th>\n      <td>963</td>\n      <td>3</td>\n      <td>21.0</td>\n      <td>0</td>\n      <td>0</td>\n      <td>349211</td>\n      <td>7.8958</td>\n      <td>0</td>\n      <td>0</td>\n      <td>0</td>\n      <td>1</td>\n      <td>0</td>\n      <td>1</td>\n    </tr>\n    <tr>\n      <th>117</th>\n      <td>1009</td>\n      <td>3</td>\n      <td>1.0</td>\n      <td>1</td>\n      <td>1</td>\n      <td>9549</td>\n      <td>16.7000</td>\n      <td>6</td>\n      <td>0</td>\n      <td>0</td>\n      <td>1</td>\n      <td>1</td>\n      <td>0</td>\n    </tr>\n    <tr>\n      <th>280</th>\n      <td>1172</td>\n      <td>3</td>\n      <td>23.0</td>\n      <td>0</td>\n      <td>0</td>\n      <td>315085</td>\n      <td>8.6625</td>\n      <td>0</td>\n      <td>0</td>\n      <td>0</td>\n      <td>1</td>\n      <td>1</td>\n      <td>0</td>\n    </tr>\n    <tr>\n      <th>379</th>\n      <td>1271</td>\n      <td>3</td>\n      <td>5.0</td>\n      <td>4</td>\n      <td>2</td>\n      <td>347077</td>\n      <td>31.3875</td>\n      <td>0</td>\n      <td>0</td>\n      <td>0</td>\n      <td>1</td>\n      <td>0</td>\n      <td>1</td>\n    </tr>\n    <tr>\n      <th>308</th>\n      <td>1200</td>\n      <td>1</td>\n      <td>55.0</td>\n      <td>1</td>\n      <td>1</td>\n      <td>12749</td>\n      <td>93.5000</td>\n      <td>69</td>\n      <td>0</td>\n      <td>0</td>\n      <td>1</td>\n      <td>0</td>\n      <td>1</td>\n    </tr>\n    <tr>\n      <th>375</th>\n      <td>1267</td>\n      <td>1</td>\n      <td>45.0</td>\n      <td>0</td>\n      <td>0</td>\n      <td>17608</td>\n      <td>262.3750</td>\n      <td>0</td>\n      <td>1</td>\n      <td>0</td>\n      <td>0</td>\n      <td>1</td>\n      <td>0</td>\n    </tr>\n  </tbody>\n</table>\n</div>"
     },
     "metadata": {},
     "execution_count": 21
    }
   ],
   "source": [
    "df_test['Cabin'] = df_test['Cabin'].fillna(0)\n",
    "r = re.compile(r'\\D')\n",
    "for i in range(len(df_test)):\n",
    "        # Cabin\n",
    "        df_test['Cabin'].iloc[i] = re.sub(r'[A-G]','', str(df_test['Cabin'].iloc[i]))\n",
    "        df_test['Cabin'].iloc[i] = re.sub(r' ','', str(df_test['Cabin'].iloc[i]))\n",
    "        try:\n",
    "                df_test['Cabin'].iloc[i] = int(df_test['Cabin'].iloc[i]) \n",
    "        except:\n",
    "                df_test['Cabin'].iloc[i] = 0\n",
    "\n",
    "        #Ticket\n",
    "        df_test['Ticket'].iloc[i] = r.sub('', str(df_test['Ticket'].iloc[i]))\n",
    "        df_test['Ticket'].iloc[i] = re.sub(r'[A-G]','', str(df_test['Ticket'].iloc[i]))\n",
    "        df_test['Ticket'].iloc[i] = re.sub(r' ','', str(df_test['Ticket'].iloc[i]))\n",
    "        try:\n",
    "                df_test['Ticket'].iloc[i] = int(df_test['Ticket'].iloc[i]) \n",
    "        except:\n",
    "                df_test['Ticket'].iloc[i] = 0\n",
    "\n",
    "df_test.sample(10)"
   ]
  },
  {
   "cell_type": "code",
   "execution_count": 16,
   "metadata": {},
   "outputs": [],
   "source": [
    "resultado = clf.predict(df_test.dropna())\n"
   ]
  },
  {
   "cell_type": "code",
   "execution_count": 17,
   "metadata": {},
   "outputs": [],
   "source": [
    "df_teste = df_test.dropna()\n",
    "out = {'PassengerId' : [df_teste['PassengerId'].iloc[x] for x in range(len(df_teste))],\n",
    "        'Survived': list(resultado)\n",
    "        }\n",
    "df_out = pd.DataFrame(out)"
   ]
  },
  {
   "cell_type": "code",
   "execution_count": null,
   "metadata": {},
   "outputs": [],
   "source": [
    "df_out.to_csv('resultado.csv', index=False)"
   ]
  }
 ]
}